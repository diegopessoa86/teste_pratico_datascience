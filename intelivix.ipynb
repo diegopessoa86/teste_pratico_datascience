{
 "cells": [
  {
   "cell_type": "markdown",
   "metadata": {},
   "source": [
    "# Imports"
   ]
  },
  {
   "cell_type": "code",
   "execution_count": 1,
   "metadata": {},
   "outputs": [],
   "source": [
    "import pandas as pd\n",
    "import numpy as np\n",
    "import sklearn\n",
    "from sklearn.metrics import accuracy_score\n",
    "import matplotlib.pyplot as plt\n",
    "from sklearn.metrics import accuracy_score\n"
   ]
  },
  {
   "cell_type": "markdown",
   "metadata": {},
   "source": [
    "# Carregando dataframe no Pandas"
   ]
  },
  {
   "cell_type": "markdown",
   "metadata": {},
   "source": [
    "Carregando os dados dos arquivos *.tsv\n",
    "\n",
    "localizados na mesma pasta.\n",
    "train.tsv\n",
    "test.tsv"
   ]
  },
  {
   "cell_type": "code",
   "execution_count": 2,
   "metadata": {},
   "outputs": [],
   "source": [
    "dfTrain = pd.read_csv(\"train.tsv\", sep='\\t')\n",
    "dfTest = pd.read_csv(\"test.tsv\", sep='\\t')"
   ]
  },
  {
   "cell_type": "code",
   "execution_count": 3,
   "metadata": {},
   "outputs": [],
   "source": [
    "dfT = dfTest.drop('Id', axis=1)\n",
    "dfT = dfT.drop('IdSentenca', axis=1)"
   ]
  },
  {
   "cell_type": "code",
   "execution_count": 4,
   "metadata": {},
   "outputs": [
    {
     "data": {
      "text/html": [
       "<div>\n",
       "<style scoped>\n",
       "    .dataframe tbody tr th:only-of-type {\n",
       "        vertical-align: middle;\n",
       "    }\n",
       "\n",
       "    .dataframe tbody tr th {\n",
       "        vertical-align: top;\n",
       "    }\n",
       "\n",
       "    .dataframe thead th {\n",
       "        text-align: right;\n",
       "    }\n",
       "</style>\n",
       "<table border=\"1\" class=\"dataframe\">\n",
       "  <thead>\n",
       "    <tr style=\"text-align: right;\">\n",
       "      <th></th>\n",
       "      <th>Texto</th>\n",
       "    </tr>\n",
       "  </thead>\n",
       "  <tbody>\n",
       "    <tr>\n",
       "      <th>0</th>\n",
       "      <td>An intermittently pleasing but mostly routine ...</td>\n",
       "    </tr>\n",
       "    <tr>\n",
       "      <th>1</th>\n",
       "      <td>An intermittently pleasing but mostly routine ...</td>\n",
       "    </tr>\n",
       "    <tr>\n",
       "      <th>2</th>\n",
       "      <td>An</td>\n",
       "    </tr>\n",
       "    <tr>\n",
       "      <th>3</th>\n",
       "      <td>intermittently pleasing but mostly routine effort</td>\n",
       "    </tr>\n",
       "    <tr>\n",
       "      <th>4</th>\n",
       "      <td>intermittently pleasing but mostly routine</td>\n",
       "    </tr>\n",
       "  </tbody>\n",
       "</table>\n",
       "</div>"
      ],
      "text/plain": [
       "                                               Texto\n",
       "0  An intermittently pleasing but mostly routine ...\n",
       "1  An intermittently pleasing but mostly routine ...\n",
       "2                                                 An\n",
       "3  intermittently pleasing but mostly routine effort\n",
       "4         intermittently pleasing but mostly routine"
      ]
     },
     "execution_count": 4,
     "metadata": {},
     "output_type": "execute_result"
    }
   ],
   "source": [
    "dfT.head()"
   ]
  },
  {
   "cell_type": "markdown",
   "metadata": {},
   "source": [
    "# Retirando colunas irrelevantes do dataframe"
   ]
  },
  {
   "cell_type": "code",
   "execution_count": 5,
   "metadata": {},
   "outputs": [],
   "source": [
    "df = dfTrain.drop('Id', axis=1)\n",
    "df = df.drop('IdSentenca', axis=1)"
   ]
  },
  {
   "cell_type": "code",
   "execution_count": 6,
   "metadata": {},
   "outputs": [
    {
     "data": {
      "text/plain": [
       "Texto         0\n",
       "Sentimento    0\n",
       "dtype: int64"
      ]
     },
     "execution_count": 6,
     "metadata": {},
     "output_type": "execute_result"
    }
   ],
   "source": [
    "#Verificando se tem entradas nulas\n",
    "df.isna().sum()"
   ]
  },
  {
   "cell_type": "code",
   "execution_count": 7,
   "metadata": {},
   "outputs": [
    {
     "data": {
      "image/png": "[encoded data removed]",
      "text/plain": [
       "<Figure size 432x288 with 1 Axes>"
      ]
     },
     "metadata": {
      "needs_background": "light"
     },
     "output_type": "display_data"
    },
    {
     "data": {
      "text/plain": [
       "<Figure size 432x288 with 0 Axes>"
      ]
     },
     "metadata": {},
     "output_type": "display_data"
    }
   ],
   "source": [
    "#Bar-chart dos Sentimentos\n",
    "#Segue distribuição normal\n",
    "import seaborn as sns\n",
    "\n",
    "sns.countplot(x='Sentimento', data=df, palette='hls')\n",
    "plt.show()\n",
    "plt.savefig('count plot')\n"
   ]
  },
  {
   "cell_type": "markdown",
   "metadata": {},
   "source": [
    "# Utilizando bag of words para o conjunto de palavras"
   ]
  },
  {
   "cell_type": "code",
   "execution_count": 8,
   "metadata": {},
   "outputs": [
    {
     "data": {
      "text/plain": [
       "(156060, 15240)"
      ]
     },
     "execution_count": 8,
     "metadata": {},
     "output_type": "execute_result"
    }
   ],
   "source": [
    "from sklearn.feature_extraction.text import CountVectorizer\n",
    "\n",
    "count_vect = CountVectorizer()\n",
    "X_train_counts = count_vect.fit_transform(df.Texto)\n",
    "X_train_counts.shape"
   ]
  },
  {
   "cell_type": "code",
   "execution_count": 9,
   "metadata": {},
   "outputs": [
    {
     "data": {
      "text/plain": [
       "(156060, 15240)"
      ]
     },
     "execution_count": 9,
     "metadata": {},
     "output_type": "execute_result"
    }
   ],
   "source": [
    "from sklearn.feature_extraction.text import TfidfTransformer\n",
    "tfidf_transformer = TfidfTransformer()\n",
    "X_train_tfidf = tfidf_transformer.fit_transform(X_train_counts)\n",
    "X_train_tfidf.shape"
   ]
  },
  {
   "cell_type": "code",
   "execution_count": 10,
   "metadata": {},
   "outputs": [],
   "source": [
    "df0 = df[df['Sentimento'] == 0]\n",
    "df1 = df[df['Sentimento'] == 1]\n",
    "df2 = df[df['Sentimento'] == 2]\n",
    "df3 = df[df['Sentimento'] == 3]\n",
    "df4 = df[df['Sentimento'] == 4]"
   ]
  },
  {
   "cell_type": "code",
   "execution_count": 11,
   "metadata": {},
   "outputs": [],
   "source": [
    "df1 = df1.sample(7072)\n",
    "df2 = df2.sample(7072)\n",
    "df3 = df3.sample(7072)\n",
    "df4 = df4.sample(7072)"
   ]
  },
  {
   "cell_type": "code",
   "execution_count": 12,
   "metadata": {},
   "outputs": [],
   "source": [
    "df_b = df0\n",
    "df_b = df_b.append(df1)\n",
    "df_b = df_b.append(df2)\n",
    "df_b = df_b.append(df3)\n",
    "df_b = df_b.append(df4)"
   ]
  },
  {
   "cell_type": "code",
   "execution_count": 13,
   "metadata": {},
   "outputs": [
    {
     "data": {
      "image/png": "[encoded data removed]",
      "text/plain": [
       "<Figure size 432x288 with 1 Axes>"
      ]
     },
     "metadata": {
      "needs_background": "light"
     },
     "output_type": "display_data"
    },
    {
     "data": {
      "text/plain": [
       "<Figure size 432x288 with 0 Axes>"
      ]
     },
     "metadata": {},
     "output_type": "display_data"
    }
   ],
   "source": [
    "import seaborn as sns\n",
    "\n",
    "sns.countplot(x='Sentimento', data=df_b, palette='hls')\n",
    "plt.show()\n",
    "plt.savefig('count plot')"
   ]
  },
  {
   "cell_type": "markdown",
   "metadata": {},
   "source": [
    "# MODELO NAIVE Bayes"
   ]
  },
  {
   "cell_type": "code",
   "execution_count": 14,
   "metadata": {},
   "outputs": [],
   "source": [
    "from sklearn.naive_bayes import MultinomialNB\n",
    "\n",
    "clf = MultinomialNB().fit(X_train_tfidf, df.Sentimento)"
   ]
  },
  {
   "cell_type": "code",
   "execution_count": 15,
   "metadata": {},
   "outputs": [],
   "source": [
    "from sklearn.model_selection import train_test_split\n",
    "from sklearn.feature_extraction.text import CountVectorizer\n",
    "from sklearn.feature_extraction.text import TfidfTransformer\n",
    "from sklearn.naive_bayes import MultinomialNB\n",
    "\n",
    "X_train, X_test, y_train, y_test = train_test_split(df['Texto'], df['Sentimento'],test_size=0.3, random_state = 63)\n",
    "count_vect = CountVectorizer()\n",
    "X_train_counts = count_vect.fit_transform(X_train)\n",
    "tfidf_transformer = TfidfTransformer()\n",
    "X_train_tfidf = tfidf_transformer.fit_transform(X_train_counts)\n",
    "\n",
    "clf = MultinomialNB().fit(X_train_tfidf, y_train)\n"
   ]
  },
  {
   "cell_type": "code",
   "execution_count": 16,
   "metadata": {},
   "outputs": [
    {
     "name": "stderr",
     "output_type": "stream",
     "text": [
      "C:\\Users\\adans\\Anaconda\\lib\\site-packages\\ipykernel_launcher.py:6: FutureWarning: set_value is deprecated and will be removed in a future release. Please use .at[] or .iat[] accessors instead\n",
      "  \n"
     ]
    }
   ],
   "source": [
    "dfT['Sentimento'] = 0\n",
    "\n",
    "for index, row in dfT.iterrows():\n",
    "    str1 = row.Texto\n",
    "    #print(clf.predict(count_vect.transform([str1])))\n",
    "    dfT.set_value(index, 'Sentimento', clf.predict(count_vect.transform([str1])))"
   ]
  },
  {
   "cell_type": "code",
   "execution_count": 17,
   "metadata": {},
   "outputs": [],
   "source": [
    "Teste = X_test.to_frame()\n",
    "Teste['Sentimento'] = 0"
   ]
  },
  {
   "cell_type": "code",
   "execution_count": 18,
   "metadata": {},
   "outputs": [
    {
     "name": "stderr",
     "output_type": "stream",
     "text": [
      "C:\\Users\\adans\\Anaconda\\lib\\site-packages\\ipykernel_launcher.py:3: FutureWarning: set_value is deprecated and will be removed in a future release. Please use .at[] or .iat[] accessors instead\n",
      "  This is separate from the ipykernel package so we can avoid doing imports until\n"
     ]
    }
   ],
   "source": [
    "for index, row in Teste.iterrows():\n",
    "    str1 = row.Texto\n",
    "    Teste.set_value(index, 'Sentimento', clf.predict(count_vect.transform([str1])))"
   ]
  },
  {
   "cell_type": "code",
   "execution_count": 19,
   "metadata": {},
   "outputs": [],
   "source": [
    "predictions =  Teste['Sentimento']"
   ]
  },
  {
   "cell_type": "code",
   "execution_count": 20,
   "metadata": {},
   "outputs": [
    {
     "name": "stdout",
     "output_type": "stream",
     "text": [
      "[[  187  1133   679    74     3]\n",
      " [  121  3363  4310   448    12]\n",
      " [   43  1714 19701  2395    66]\n",
      " [    4   287  4134  5124   212]\n",
      " [    0    30   534  1855   389]]\n",
      "              precision    recall  f1-score   support\n",
      "\n",
      "           0       0.53      0.09      0.15      2076\n",
      "           1       0.52      0.41      0.46      8254\n",
      "           2       0.67      0.82      0.74     23919\n",
      "           3       0.52      0.52      0.52      9761\n",
      "           4       0.57      0.14      0.22      2808\n",
      "\n",
      "   micro avg       0.61      0.61      0.61     46818\n",
      "   macro avg       0.56      0.40      0.42     46818\n",
      "weighted avg       0.60      0.61      0.59     46818\n",
      "\n",
      "0.6143790849673203\n"
     ]
    }
   ],
   "source": [
    "from sklearn.metrics import classification_report,confusion_matrix\n",
    "\n",
    "print(confusion_matrix(y_test,predictions))\n",
    "print(classification_report(y_test,predictions))\n",
    "print(accuracy_score(y_test,predictions))"
   ]
  },
  {
   "cell_type": "markdown",
   "metadata": {},
   "source": [
    "# MODELO REG. LOGISTICA"
   ]
  },
  {
   "cell_type": "code",
   "execution_count": 21,
   "metadata": {},
   "outputs": [
    {
     "name": "stderr",
     "output_type": "stream",
     "text": [
      "C:\\Users\\adans\\Anaconda\\lib\\site-packages\\sklearn\\linear_model\\logistic.py:433: FutureWarning: Default solver will be changed to 'lbfgs' in 0.22. Specify a solver to silence this warning.\n",
      "  FutureWarning)\n",
      "C:\\Users\\adans\\Anaconda\\lib\\site-packages\\sklearn\\linear_model\\logistic.py:460: FutureWarning: Default multi_class will be changed to 'auto' in 0.22. Specify the multi_class option to silence this warning.\n",
      "  \"this warning.\", FutureWarning)\n",
      "C:\\Users\\adans\\Anaconda\\lib\\site-packages\\ipykernel_launcher.py:12: FutureWarning: set_value is deprecated and will be removed in a future release. Please use .at[] or .iat[] accessors instead\n",
      "  if sys.path[0] == '':\n"
     ]
    },
    {
     "name": "stdout",
     "output_type": "stream",
     "text": [
      "[[ 1258   592    92    41    93]\n",
      " [ 2135  3663  1492   435   529]\n",
      " [ 1991  3553 13269  3229  1877]\n",
      " [  579   612  1625  4227  2718]\n",
      " [   84    37    83   787  1817]]\n",
      "              precision    recall  f1-score   support\n",
      "\n",
      "           0       0.21      0.61      0.31      2076\n",
      "           1       0.43      0.44      0.44      8254\n",
      "           2       0.80      0.55      0.66     23919\n",
      "           3       0.48      0.43      0.46      9761\n",
      "           4       0.26      0.65      0.37      2808\n",
      "\n",
      "   micro avg       0.52      0.52      0.52     46818\n",
      "   macro avg       0.44      0.54      0.45     46818\n",
      "weighted avg       0.61      0.52      0.54     46818\n",
      "\n",
      "0.5176214276560297\n"
     ]
    }
   ],
   "source": [
    "from sklearn.linear_model import LogisticRegression\n",
    "\n",
    "clf = LogisticRegression()\n",
    "clf.fit(X_train_tfidf,y_train)\n",
    "\n",
    "Teste = X_test.to_frame()\n",
    "Teste['Sentimento'] = 0\n",
    "\n",
    "\n",
    "for index, row in Teste.iterrows():\n",
    "    str1 = row.Texto\n",
    "    Teste.set_value(index, 'Sentimento', clf.predict(count_vect.transform([str1])))\n",
    "\n",
    "predictions =  Teste['Sentimento']\n",
    "\n",
    "from sklearn.metrics import classification_report,confusion_matrix\n",
    "\n",
    "print(confusion_matrix(y_test,predictions))\n",
    "print(classification_report(y_test,predictions))\n",
    "print(accuracy_score(y_test,predictions))\n",
    "\n"
   ]
  },
  {
   "cell_type": "markdown",
   "metadata": {},
   "source": [
    "# MODELO MLP (23,19,19)"
   ]
  },
  {
   "cell_type": "code",
   "execution_count": 24,
   "metadata": {},
   "outputs": [
    {
     "name": "stderr",
     "output_type": "stream",
     "text": [
      "C:\\Users\\adans\\Anaconda\\lib\\site-packages\\sklearn\\neural_network\\multilayer_perceptron.py:562: ConvergenceWarning: Stochastic Optimizer: Maximum iterations (100) reached and the optimization hasn't converged yet.\n",
      "  % self.max_iter, ConvergenceWarning)\n",
      "C:\\Users\\adans\\Anaconda\\lib\\site-packages\\ipykernel_launcher.py:13: FutureWarning: set_value is deprecated and will be removed in a future release. Please use .at[] or .iat[] accessors instead\n",
      "  del sys.path[0]\n"
     ]
    },
    {
     "name": "stdout",
     "output_type": "stream",
     "text": [
      "[[  282  1230   507    56     1]\n",
      " [  390  4573  2906   365    20]\n",
      " [  219  4711 15880  3003   106]\n",
      " [   44   961  3526  4800   430]\n",
      " [    6   118   466  1853   365]]\n",
      "              precision    recall  f1-score   support\n",
      "\n",
      "           0       0.30      0.14      0.19      2076\n",
      "           1       0.39      0.55      0.46      8254\n",
      "           2       0.68      0.66      0.67     23919\n",
      "           3       0.48      0.49      0.48      9761\n",
      "           4       0.40      0.13      0.20      2808\n",
      "\n",
      "   micro avg       0.55      0.55      0.55     46818\n",
      "   macro avg       0.45      0.40      0.40     46818\n",
      "weighted avg       0.55      0.55      0.55     46818\n",
      "\n"
     ]
    }
   ],
   "source": [
    "from sklearn.model_selection import cross_val_score\n",
    "from sklearn.neural_network import MLPClassifier\n",
    "\n",
    "clf = MLPClassifier(hidden_layer_sizes=(23,19,19),max_iter=100)\n",
    "\n",
    "clf.fit(X_train_tfidf,y_train)\n",
    "\n",
    "Teste = X_test.to_frame()\n",
    "Teste['Sentimento'] = 0\n",
    "\n",
    "for index, row in Teste.iterrows():\n",
    "    str1 = row.Texto\n",
    "    Teste.set_value(index, 'Sentimento', clf.predict(count_vect.transform([str1])))\n",
    "\n",
    "predictions =  Teste['Sentimento']\n",
    "\n",
    "from sklearn.metrics import classification_report,confusion_matrix\n",
    "\n",
    "print(confusion_matrix(y_test,predictions))\n",
    "print(classification_report(y_test,predictions))"
   ]
  },
  {
   "cell_type": "markdown",
   "metadata": {},
   "source": [
    "# MODELO RANDOM FOREST"
   ]
  },
  {
   "cell_type": "code",
   "execution_count": 25,
   "metadata": {},
   "outputs": [],
   "source": [
    "from sklearn import ensemble\n",
    "# Cria o modelo com 100 árvores\n",
    "clf = ensemble.RandomForestClassifier ( n_estimators=10 )\n",
    "clf.fit(X_train_tfidf,y_train)\n",
    "\n",
    "Teste = X_test.to_frame()\n",
    "Teste['Sentimento'] = 0"
   ]
  },
  {
   "cell_type": "code",
   "execution_count": 26,
   "metadata": {},
   "outputs": [
    {
     "name": "stderr",
     "output_type": "stream",
     "text": [
      "C:\\Users\\adans\\Anaconda\\lib\\site-packages\\ipykernel_launcher.py:3: FutureWarning: set_value is deprecated and will be removed in a future release. Please use .at[] or .iat[] accessors instead\n",
      "  This is separate from the ipykernel package so we can avoid doing imports until\n"
     ]
    },
    {
     "name": "stdout",
     "output_type": "stream",
     "text": [
      "[[  383   564  1026   101     2]\n",
      " [  330  2096  5394   414    20]\n",
      " [   72  1441 20428  1879    99]\n",
      " [   12   221  5945  3062   521]\n",
      " [    1    47  1176  1013   571]]\n",
      "              precision    recall  f1-score   support\n",
      "\n",
      "           0       0.48      0.18      0.27      2076\n",
      "           1       0.48      0.25      0.33      8254\n",
      "           2       0.60      0.85      0.71     23919\n",
      "           3       0.47      0.31      0.38      9761\n",
      "           4       0.47      0.20      0.28      2808\n",
      "\n",
      "   micro avg       0.57      0.57      0.57     46818\n",
      "   macro avg       0.50      0.36      0.39     46818\n",
      "weighted avg       0.54      0.57      0.53     46818\n",
      "\n",
      "0.566875987867914\n"
     ]
    }
   ],
   "source": [
    "for index, row in Teste.iterrows():\n",
    "    str1 = row.Texto\n",
    "    Teste.set_value(index, 'Sentimento', clf.predict(count_vect.transform([str1])))\n",
    "\n",
    "predictions =  Teste['Sentimento']\n",
    "\n",
    "from sklearn.metrics import classification_report,confusion_matrix\n",
    "\n",
    "print(confusion_matrix(y_test,predictions))\n",
    "print(classification_report(y_test,predictions))\n",
    "print(accuracy_score(y_test,predictions))"
   ]
  },
  {
   "cell_type": "markdown",
   "metadata": {},
   "source": [
    "# KNN "
   ]
  },
  {
   "cell_type": "code",
   "execution_count": 23,
   "metadata": {},
   "outputs": [
    {
     "name": "stderr",
     "output_type": "stream",
     "text": [
      "C:\\Users\\adans\\Anaconda\\lib\\site-packages\\ipykernel_launcher.py:13: FutureWarning: set_value is deprecated and will be removed in a future release. Please use .at[] or .iat[] accessors instead\n",
      "  del sys.path[0]\n"
     ]
    },
    {
     "name": "stdout",
     "output_type": "stream",
     "text": [
      "[[  274   423  1350    26     3]\n",
      " [  178  1328  6605   131    12]\n",
      " [   32   531 22459   859    38]\n",
      " [    2    53  6931  2521   254]\n",
      " [    0    15  1449   907   437]]\n",
      "              precision    recall  f1-score   support\n",
      "\n",
      "           0       0.56      0.13      0.21      2076\n",
      "           1       0.57      0.16      0.25      8254\n",
      "           2       0.58      0.94      0.72     23919\n",
      "           3       0.57      0.26      0.35      9761\n",
      "           4       0.59      0.16      0.25      2808\n",
      "\n",
      "   micro avg       0.58      0.58      0.58     46818\n",
      "   macro avg       0.57      0.33      0.36     46818\n",
      "weighted avg       0.57      0.58      0.51     46818\n",
      "\n",
      "0.5771070955615362\n"
     ]
    }
   ],
   "source": [
    "from sklearn import neighbors, datasets\n",
    "\n",
    "n_neighbors = 15\n",
    "\n",
    "clf = neighbors.KNeighborsClassifier(n_neighbors, weights='distance')\n",
    "clf.fit(X_train_tfidf, y_train)\n",
    "\n",
    "Teste = X_test.to_frame()\n",
    "Teste['Sentimento'] = 0\n",
    "\n",
    "for index, row in Teste.iterrows():\n",
    "    str1 = row.Texto\n",
    "    Teste.set_value(index, 'Sentimento', clf.predict(count_vect.transform([str1])))\n",
    "\n",
    "predictions =  Teste['Sentimento']\n",
    "\n",
    "from sklearn.metrics import classification_report,confusion_matrix\n",
    "\n",
    "print(confusion_matrix(y_test,predictions))\n",
    "print(classification_report(y_test,predictions))\n",
    "print(accuracy_score(y_test,predictions))"
   ]
  },
  {
   "cell_type": "code",
   "execution_count": 27,
   "metadata": {},
   "outputs": [
    {
     "name": "stderr",
     "output_type": "stream",
     "text": [
      "C:\\Users\\adans\\Anaconda\\lib\\site-packages\\ipykernel_launcher.py:13: FutureWarning: set_value is deprecated and will be removed in a future release. Please use .at[] or .iat[] accessors instead\n",
      "  del sys.path[0]\n"
     ]
    },
    {
     "name": "stdout",
     "output_type": "stream",
     "text": [
      "[[  469   651   923    31     2]\n",
      " [  361  2337  5393   156     7]\n",
      " [  120  1089 21677   977    56]\n",
      " [    9   145  6540  2766   301]\n",
      " [    2    30  1284  1015   477]]\n",
      "              precision    recall  f1-score   support\n",
      "\n",
      "           0       0.49      0.23      0.31      2076\n",
      "           1       0.55      0.28      0.37      8254\n",
      "           2       0.61      0.91      0.73     23919\n",
      "           3       0.56      0.28      0.38      9761\n",
      "           4       0.57      0.17      0.26      2808\n",
      "\n",
      "   micro avg       0.59      0.59      0.59     46818\n",
      "   macro avg       0.55      0.37      0.41     46818\n",
      "weighted avg       0.58      0.59      0.54     46818\n",
      "\n",
      "0.5922081250800973\n"
     ]
    }
   ],
   "source": [
    "from sklearn import neighbors, datasets\n",
    "\n",
    "n_neighbors = 10\n",
    "\n",
    "clf = neighbors.KNeighborsClassifier(n_neighbors, weights='uniform')\n",
    "clf.fit(X_train_tfidf, y_train)\n",
    "\n",
    "Teste = X_test.to_frame()\n",
    "Teste['Sentimento'] = 0\n",
    "\n",
    "for index, row in Teste.iterrows():\n",
    "    str1 = row.Texto\n",
    "    Teste.set_value(index, 'Sentimento', clf.predict(count_vect.transform([str1])))\n",
    "\n",
    "predictions =  Teste['Sentimento']\n",
    "\n",
    "from sklearn.metrics import classification_report,confusion_matrix\n",
    "\n",
    "print(confusion_matrix(y_test,predictions))\n",
    "print(classification_report(y_test,predictions))\n",
    "print(accuracy_score(y_test,predictions))"
   ]
  },
  {
   "cell_type": "code",
   "execution_count": null,
   "metadata": {},
   "outputs": [],
   "source": []
  }
 ],
 "metadata": {
  "kernelspec": {
   "display_name": "Python 3",
   "language": "python",
   "name": "python3"
  },
  "language_info": {
   "codemirror_mode": {
    "name": "ipython",
    "version": 3
   },
   "file_extension": ".py",
   "mimetype": "text/x-python",
   "name": "python",
   "nbconvert_exporter": "python",
   "pygments_lexer": "ipython3",
   "version": "3.7.1"
  }
 },
 "nbformat": 4,
 "nbformat_minor": 2
}
